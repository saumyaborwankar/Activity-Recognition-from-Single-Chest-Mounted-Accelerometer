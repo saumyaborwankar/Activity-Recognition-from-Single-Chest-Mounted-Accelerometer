{
 "cells": [
  {
   "cell_type": "markdown",
   "metadata": {},
   "source": [
    "# Importing Libraries"
   ]
  },
  {
   "cell_type": "code",
   "execution_count": 77,
   "metadata": {},
   "outputs": [],
   "source": [
    "import os\n",
    "import pandas as pd\n",
    "import matplotlib.pyplot as plt\n",
    "import seaborn as sns\n",
    "import joblib\n",
    "\n",
    "from sklearn.metrics import confusion_matrix\n",
    "from sklearn.metrics import classification_report\n",
    "from sklearn.preprocessing import LabelEncoder"
   ]
  },
  {
   "cell_type": "markdown",
   "metadata": {},
   "source": [
    "# Joining all the csv files (1.csv to 15.csv) \n",
    "## Naming it as train"
   ]
  },
  {
   "cell_type": "code",
   "execution_count": 78,
   "metadata": {},
   "outputs": [
    {
     "data": {
      "text/html": [
       "<div>\n",
       "<style scoped>\n",
       "    .dataframe tbody tr th:only-of-type {\n",
       "        vertical-align: middle;\n",
       "    }\n",
       "\n",
       "    .dataframe tbody tr th {\n",
       "        vertical-align: top;\n",
       "    }\n",
       "\n",
       "    .dataframe thead th {\n",
       "        text-align: right;\n",
       "    }\n",
       "</style>\n",
       "<table border=\"1\" class=\"dataframe\">\n",
       "  <thead>\n",
       "    <tr style=\"text-align: right;\">\n",
       "      <th></th>\n",
       "      <th>x</th>\n",
       "      <th>y</th>\n",
       "      <th>z</th>\n",
       "      <th>target</th>\n",
       "    </tr>\n",
       "  </thead>\n",
       "  <tbody>\n",
       "    <tr>\n",
       "      <th>0</th>\n",
       "      <td>1502</td>\n",
       "      <td>2215</td>\n",
       "      <td>2153</td>\n",
       "      <td>1</td>\n",
       "    </tr>\n",
       "    <tr>\n",
       "      <th>1</th>\n",
       "      <td>1667</td>\n",
       "      <td>2072</td>\n",
       "      <td>2047</td>\n",
       "      <td>1</td>\n",
       "    </tr>\n",
       "    <tr>\n",
       "      <th>2</th>\n",
       "      <td>1611</td>\n",
       "      <td>1957</td>\n",
       "      <td>1906</td>\n",
       "      <td>1</td>\n",
       "    </tr>\n",
       "    <tr>\n",
       "      <th>3</th>\n",
       "      <td>1601</td>\n",
       "      <td>1939</td>\n",
       "      <td>1831</td>\n",
       "      <td>1</td>\n",
       "    </tr>\n",
       "    <tr>\n",
       "      <th>4</th>\n",
       "      <td>1643</td>\n",
       "      <td>1965</td>\n",
       "      <td>1879</td>\n",
       "      <td>1</td>\n",
       "    </tr>\n",
       "    <tr>\n",
       "      <th>5</th>\n",
       "      <td>1604</td>\n",
       "      <td>1959</td>\n",
       "      <td>1921</td>\n",
       "      <td>1</td>\n",
       "    </tr>\n",
       "    <tr>\n",
       "      <th>6</th>\n",
       "      <td>1640</td>\n",
       "      <td>1829</td>\n",
       "      <td>1940</td>\n",
       "      <td>1</td>\n",
       "    </tr>\n",
       "    <tr>\n",
       "      <th>7</th>\n",
       "      <td>1607</td>\n",
       "      <td>1910</td>\n",
       "      <td>1910</td>\n",
       "      <td>1</td>\n",
       "    </tr>\n",
       "    <tr>\n",
       "      <th>8</th>\n",
       "      <td>1546</td>\n",
       "      <td>2045</td>\n",
       "      <td>1910</td>\n",
       "      <td>1</td>\n",
       "    </tr>\n",
       "    <tr>\n",
       "      <th>9</th>\n",
       "      <td>1529</td>\n",
       "      <td>2049</td>\n",
       "      <td>1972</td>\n",
       "      <td>1</td>\n",
       "    </tr>\n",
       "  </tbody>\n",
       "</table>\n",
       "</div>"
      ],
      "text/plain": [
       "      x     y     z  target\n",
       "0  1502  2215  2153       1\n",
       "1  1667  2072  2047       1\n",
       "2  1611  1957  1906       1\n",
       "3  1601  1939  1831       1\n",
       "4  1643  1965  1879       1\n",
       "5  1604  1959  1921       1\n",
       "6  1640  1829  1940       1\n",
       "7  1607  1910  1910       1\n",
       "8  1546  2045  1910       1\n",
       "9  1529  2049  1972       1"
      ]
     },
     "execution_count": 78,
     "metadata": {},
     "output_type": "execute_result"
    }
   ],
   "source": [
    "join=[]\n",
    "for a,b,c in os.walk('csv'):\n",
    "    for file in c:\n",
    "        df=pd.read_csv(os.path.join(a,file),header=None,index_col=0)\n",
    "        join.append(df)\n",
    "train=pd.concat(join,axis=0)\n",
    "train.columns=['x','y','z','target']\n",
    "train.reset_index(drop=True,inplace=True)\n",
    "train.head(10)\n"
   ]
  },
  {
   "cell_type": "markdown",
   "metadata": {},
   "source": [
    "# Counting number of occurences of target variable "
   ]
  },
  {
   "cell_type": "code",
   "execution_count": 79,
   "metadata": {},
   "outputs": [
    {
     "data": {
      "text/plain": [
       "1    608667\n",
       "7    593563\n",
       "4    357064\n",
       "3    216737\n",
       "5     51498\n",
       "2     47878\n",
       "6     47770\n",
       "0      3719\n",
       "Name: target, dtype: int64"
      ]
     },
     "execution_count": 79,
     "metadata": {},
     "output_type": "execute_result"
    }
   ],
   "source": [
    "train['target'].value_counts()\n"
   ]
  },
  {
   "cell_type": "markdown",
   "metadata": {},
   "source": [
    "# Dropping 3 target values (0,2,5)\n",
    "This is due to the fact that target value 0 has very few samples, target value 2 is \"Standing Up, Walking and Going up\\down stairs\" and target value 5 is \"Going Up\\Down Stairs\". \n",
    "There are 3 variables acceleration in X,Y and Z direction, now taking into account the activity of going down, here the Y coordinate will decrease (assuming Y coordinate as height) and while going up it will increase so for target values 2 and 5, The samples will contain both decreasing and increasing value of y which would be difficult to model as they are both different activities and require further seperation. So due to this reason they are removed while creating a model."
   ]
  },
  {
   "cell_type": "code",
   "execution_count": 80,
   "metadata": {},
   "outputs": [],
   "source": [
    "#train=train.drop_duplicates()\n",
    "train=train[train['target'] != 0 ]\n",
    "train=train[train['target'] != 2 ]\n",
    "train=train[train['target'] != 5 ]\n",
    "\n",
    "Y=train.target\n",
    "X=train.drop(['target'],axis=1)\n",
    "le = LabelEncoder()\n",
    "le.fit(Y)\n",
    "Y = le.transform(Y)"
   ]
  },
  {
   "cell_type": "markdown",
   "metadata": {},
   "source": [
    "# Splitting data"
   ]
  },
  {
   "cell_type": "code",
   "execution_count": 81,
   "metadata": {},
   "outputs": [],
   "source": [
    "X_train, X_test, y_train, y_test = train_test_split(X, Y , test_size = 0.20,random_state=0)"
   ]
  },
  {
   "cell_type": "markdown",
   "metadata": {},
   "source": [
    "# KNeighbors Classifier"
   ]
  },
  {
   "cell_type": "code",
   "execution_count": 82,
   "metadata": {},
   "outputs": [
    {
     "name": "stdout",
     "output_type": "stream",
     "text": [
      "[[111694   1221   3771     49   5042]\n",
      " [  2408  21168   9940    587   9463]\n",
      " [  5124   4281  53142    222   8489]\n",
      " [   389   1352   1903   2205   3668]\n",
      " [  4863   5330   8698   1135  98617]]\n",
      "              precision    recall  f1-score   support\n",
      "\n",
      "           0       0.90      0.92      0.91    121777\n",
      "           1       0.63      0.49      0.55     43566\n",
      "           2       0.69      0.75      0.71     71258\n",
      "           3       0.53      0.23      0.32      9517\n",
      "           4       0.79      0.83      0.81    118643\n",
      "\n",
      "    accuracy                           0.79    364761\n",
      "   macro avg       0.71      0.64      0.66    364761\n",
      "weighted avg       0.78      0.79      0.78    364761\n",
      "\n",
      "0.7863395483618041\n"
     ]
    }
   ],
   "source": [
    "from sklearn.neighbors import KNeighborsClassifier\n",
    "knn = KNeighborsClassifier(15)\n",
    "fit  = knn.fit(X_train, y_train)\n",
    "predicted = fit.predict(X_test)\n",
    "accuracy = knn.score(X_test, y_test)\n",
    "array=confusion_matrix(y_test, predicted)\n",
    "print(confusion_matrix(y_test, predicted))\n",
    "print(classification_report(y_test, predicted))\n",
    "print(accuracy)"
   ]
  },
  {
   "cell_type": "code",
   "execution_count": 83,
   "metadata": {},
   "outputs": [
    {
     "data": {
      "text/plain": [
       "['knn.pkl']"
      ]
     },
     "execution_count": 83,
     "metadata": {},
     "output_type": "execute_result"
    }
   ],
   "source": [
    "joblib.dump(knn, 'knn.pkl')"
   ]
  },
  {
   "cell_type": "code",
   "execution_count": null,
   "metadata": {},
   "outputs": [],
   "source": []
  },
  {
   "cell_type": "markdown",
   "metadata": {},
   "source": [
    "# Feature engineering\n",
    "The new variable created is a the root mean square value of the 3 variables (X,Y and Z) and it is named as 'xyz'. Added 6 features in total (variance, mean, max, min, sum_man_min, mean square )"
   ]
  },
  {
   "cell_type": "code",
   "execution_count": 85,
   "metadata": {},
   "outputs": [],
   "source": [
    "new = ((train['x']**2 + train['y']**2 + train['z']**2) / 3)**0.5\n",
    "train[['x_V','y_V','z_V']]= np.var(train[['x','y','z']], axis=0)\n",
    "train[['x_mean','y_mean','z_mean']] = np.mean(train[['x','y','z']], axis=0)\n",
    "train[['x_min','y_min','z_min']] = np.min(train[['x','y','z']], axis = 0)\n",
    "train[['x_max','y_max','z_max']] = np.max(train[['x','y','z']], axis = 0)\n",
    "train[['x_sum','y_sum','z_sum']] = np.sum([train[['x_min','y_min','z_min']],train[['x_max','y_max','z_max']]], axis = 0)\n"
   ]
  },
  {
   "cell_type": "code",
   "execution_count": null,
   "metadata": {},
   "outputs": [],
   "source": [
    "train['xyz']=new\n",
    "Y=train.target\n",
    "X=train.drop(['target'],axis=1)\n",
    "print(train.head(5))"
   ]
  },
  {
   "cell_type": "markdown",
   "metadata": {},
   "source": [
    "# Scaling the input and Label Encoding targets"
   ]
  },
  {
   "cell_type": "code",
   "execution_count": 86,
   "metadata": {},
   "outputs": [
    {
     "name": "stdout",
     "output_type": "stream",
     "text": [
      "      x     y     z  target           x_V           y_V        z_V  \\\n",
      "0  1502  2215  2153       1  12388.780536  10054.238906  8828.3886   \n",
      "1  1667  2072  2047       1  12388.780536  10054.238906  8828.3886   \n",
      "2  1611  1957  1906       1  12388.780536  10054.238906  8828.3886   \n",
      "3  1601  1939  1831       1  12388.780536  10054.238906  8828.3886   \n",
      "4  1643  1965  1879       1  12388.780536  10054.238906  8828.3886   \n",
      "\n",
      "        x_mean       y_mean       z_mean  x_min  y_min  z_min  x_max  y_max  \\\n",
      "0  1987.581921  2382.504686  1970.528338    282      2      1   3828   4095   \n",
      "1  1987.581921  2382.504686  1970.528338    282      2      1   3828   4095   \n",
      "2  1987.581921  2382.504686  1970.528338    282      2      1   3828   4095   \n",
      "3  1987.581921  2382.504686  1970.528338    282      2      1   3828   4095   \n",
      "4  1987.581921  2382.504686  1970.528338    282      2      1   3828   4095   \n",
      "\n",
      "   z_max  x_sum  y_sum  z_sum          xyz  \n",
      "0   4095   4110   4097   4096  1983.064800  \n",
      "1   4095   4110   4097   4096  1937.548451  \n",
      "2   4095   4110   4097   4096  1831.029401  \n",
      "3   4095   4110   4097   4096  1795.873325  \n",
      "4   4095   4110   4097   4096  1834.058796  \n"
     ]
    }
   ],
   "source": [
    "scaler=StandardScaler()\n",
    "# transform data\n",
    "X = scaler.fit_transform(X)\n",
    "le = LabelEncoder()\n",
    "le.fit(Y)\n",
    "Y = le.transform(Y)\n",
    "X_train, X_test, y_train, y_test = train_test_split(X, Y , test_size = 0.20,random_state=0)"
   ]
  },
  {
   "cell_type": "markdown",
   "metadata": {},
   "source": [
    "# Applying KNeighborsClassifier on new features"
   ]
  },
  {
   "cell_type": "code",
   "execution_count": 90,
   "metadata": {
    "scrolled": true
   },
   "outputs": [
    {
     "name": "stdout",
     "output_type": "stream",
     "text": [
      "[[111746   1133   3746     47   5105]\n",
      " [  2358  21056  10034    542   9576]\n",
      " [  5062   3655  53658    203   8680]\n",
      " [   397   1316   1910   2118   3776]\n",
      " [  4719   4802   8439   1004  99679]]\n",
      "              precision    recall  f1-score   support\n",
      "\n",
      "           0       0.90      0.92      0.91    121777\n",
      "           1       0.66      0.48      0.56     43566\n",
      "           2       0.69      0.75      0.72     71258\n",
      "           3       0.54      0.22      0.32      9517\n",
      "           4       0.79      0.84      0.81    118643\n",
      "\n",
      "    accuracy                           0.79    364761\n",
      "   macro avg       0.71      0.64      0.66    364761\n",
      "weighted avg       0.78      0.79      0.78    364761\n",
      "\n",
      "0.7902626651423809\n"
     ]
    }
   ],
   "source": [
    "from sklearn.neighbors import KNeighborsClassifier\n",
    "clf3 = KNeighborsClassifier(25)\n",
    "fit  = clf3.fit(X_train, y_train)\n",
    "predicted = fit.predict(X_test)\n",
    "accuracy = clf3.score(X_test, y_test)\n",
    "array1=confusion_matrix(y_test, predicted)\n",
    "print(confusion_matrix(y_test, predicted))\n",
    "print(classification_report(y_test, predicted))\n",
    "print(accuracy)"
   ]
  },
  {
   "cell_type": "markdown",
   "metadata": {},
   "source": [
    "# Grid Search for KNeighborsClassifier"
   ]
  },
  {
   "cell_type": "code",
   "execution_count": 93,
   "metadata": {},
   "outputs": [
    {
     "name": "stdout",
     "output_type": "stream",
     "text": [
      "Fitting 3 folds for each of 36 candidates, totalling 108 fits\n"
     ]
    },
    {
     "name": "stderr",
     "output_type": "stream",
     "text": [
      "[Parallel(n_jobs=-1)]: Using backend LokyBackend with 8 concurrent workers.\n",
      "[Parallel(n_jobs=-1)]: Done  34 tasks      | elapsed:  1.3min\n",
      "[Parallel(n_jobs=-1)]: Done 108 out of 108 | elapsed: 20.9min finished\n"
     ]
    }
   ],
   "source": [
    "from sklearn.model_selection import GridSearchCV\n",
    "grid_params={\n",
    "    'n_neighbors':[10,15,20,21,22,25,30,40,50],\n",
    "    'weights':['uniform','distance'],\n",
    "    'metric':['euclidian','manhattan']\n",
    "}\n",
    "gs=GridSearchCV(KNeighborsClassifier(),grid_params,verbose=1,cv=3,n_jobs=-1)\n",
    "gs_results=gs.fit(X_train,y_train)"
   ]
  },
  {
   "cell_type": "code",
   "execution_count": 94,
   "metadata": {},
   "outputs": [
    {
     "data": {
      "text/plain": [
       "0.7910160106226328"
      ]
     },
     "execution_count": 94,
     "metadata": {},
     "output_type": "execute_result"
    }
   ],
   "source": [
    "gs_results.best_score_"
   ]
  },
  {
   "cell_type": "code",
   "execution_count": 97,
   "metadata": {},
   "outputs": [
    {
     "data": {
      "text/plain": [
       "KNeighborsClassifier(metric='manhattan', n_neighbors=50)"
      ]
     },
     "execution_count": 97,
     "metadata": {},
     "output_type": "execute_result"
    }
   ],
   "source": [
    "gs_results.best_estimator_\n"
   ]
  },
  {
   "cell_type": "code",
   "execution_count": 100,
   "metadata": {},
   "outputs": [
    {
     "data": {
      "text/plain": [
       "['knn.pkl']"
      ]
     },
     "execution_count": 100,
     "metadata": {},
     "output_type": "execute_result"
    }
   ],
   "source": [
    "joblib.dump(gs.best_estimator_, 'knn.pkl')"
   ]
  },
  {
   "cell_type": "code",
   "execution_count": null,
   "metadata": {},
   "outputs": [],
   "source": []
  }
 ],
 "metadata": {
  "kernelspec": {
   "display_name": "Python 3",
   "language": "python",
   "name": "python3"
  },
  "language_info": {
   "codemirror_mode": {
    "name": "ipython",
    "version": 3
   },
   "file_extension": ".py",
   "mimetype": "text/x-python",
   "name": "python",
   "nbconvert_exporter": "python",
   "pygments_lexer": "ipython3",
   "version": "3.7.9"
  }
 },
 "nbformat": 4,
 "nbformat_minor": 4
}
